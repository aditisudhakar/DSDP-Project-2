{
 "cells": [
  {
   "cell_type": "markdown",
   "metadata": {},
   "source": [
    "# Can we Predict Loneliness?"
   ]
  },
  {
   "cell_type": "markdown",
   "metadata": {},
   "source": [
    "## Importing Packages"
   ]
  },
  {
   "cell_type": "code",
   "execution_count": 1,
   "metadata": {},
   "outputs": [],
   "source": [
    "import pandas as pd\n",
    "import numpy as np\n",
    "import matplotlib.pyplot as plt\n",
    "import seaborn as sns\n",
    "\n",
    "import statsmodels.api as sm\n",
    "import statsmodels.formula.api as smf"
   ]
  },
  {
   "cell_type": "markdown",
   "metadata": {},
   "source": [
    "## Load Files"
   ]
  },
  {
   "cell_type": "code",
   "execution_count": 2,
   "metadata": {},
   "outputs": [
    {
     "name": "stdout",
     "output_type": "stream",
     "text": [
      "       uasid    uashhid survhhid  wave  survey_source  final_weight  \\\n",
      "0  140100007  140100007       .n   1.0          230.0      2.757085   \n",
      "1  140100010  140100010       .n   1.0          230.0      0.881547   \n",
      "2  140100011  140100011       .n   1.0          230.0      2.791393   \n",
      "3  140100035  140100035       .n   1.0          230.0      1.087637   \n",
      "4  140100038  140100038       .n   1.0          230.0      2.889530   \n",
      "\n",
      "  uasmembers                   sampletype                    batch  \\\n",
      "0        0.0  1 Nationally Representative  1 ASDE 2014/01 Nat.Rep.   \n",
      "1        0.0  1 Nationally Representative  1 ASDE 2014/01 Nat.Rep.   \n",
      "2        0.0  1 Nationally Representative  1 ASDE 2014/01 Nat.Rep.   \n",
      "3        0.0  1 Nationally Representative  1 ASDE 2014/01 Nat.Rep.   \n",
      "4        0.0  1 Nationally Representative  1 ASDE 2014/01 Nat.Rep.   \n",
      "\n",
      "     primary_respondent  ... vc004d vc005_randomizer vc005a  vc005b  vc005c  \\\n",
      "0  1 Primary respondent  ...    NaN              NaN    NaN     NaN     NaN   \n",
      "1  1 Primary respondent  ...    NaN              NaN    NaN     NaN     NaN   \n",
      "2  1 Primary respondent  ...    NaN              NaN    NaN     NaN     NaN   \n",
      "3  1 Primary respondent  ...    NaN              NaN    NaN     NaN     NaN   \n",
      "4  1 Primary respondent  ...    NaN              NaN    NaN     NaN     NaN   \n",
      "\n",
      "   vd001  vd002  vd003  vd004              cs_001  \n",
      "0    NaN    NaN    NaN    NaN  1 Very interesting  \n",
      "1    NaN    NaN    NaN    NaN       2 Interesting  \n",
      "2    NaN    NaN    NaN    NaN                 NaN  \n",
      "3    NaN    NaN    NaN    NaN       2 Interesting  \n",
      "4    NaN    NaN    NaN    NaN       2 Interesting  \n",
      "\n",
      "[5 rows x 4222 columns]\n"
     ]
    }
   ],
   "source": [
    "\n",
    "file_path = \"C:\\\\Users\\\\medasud\\\\Downloads\\\\DSDP Project 2 Loneliness\\\\covidpanel_us_stata_jan_17_2023.dta\"\n",
    "coviddata = pd.read_stata(file_path)\n",
    "\n",
    "print(coviddata.head())"
   ]
  },
  {
   "cell_type": "code",
   "execution_count": 3,
   "metadata": {},
   "outputs": [
    {
     "data": {
      "text/plain": [
       "(208825, 4222)"
      ]
     },
     "execution_count": 3,
     "metadata": {},
     "output_type": "execute_result"
    }
   ],
   "source": [
    "coviddata.shape"
   ]
  },
  {
   "cell_type": "code",
   "execution_count": 4,
   "metadata": {},
   "outputs": [],
   "source": [
    "#create a copy of the dataframe for analysis\n",
    "newdf = coviddata.copy()"
   ]
  },
  {
   "cell_type": "code",
   "execution_count": 5,
   "metadata": {},
   "outputs": [
    {
     "data": {
      "text/plain": [
       "cr058\n",
       "1 Not at all or less than 1 day    109047\n",
       "2 1-2 days                          27236\n",
       "3 3-4 days                          12038\n",
       "4 5-7 days                           9969\n",
       "Name: count, dtype: int64"
      ]
     },
     "execution_count": 5,
     "metadata": {},
     "output_type": "execute_result"
    }
   ],
   "source": [
    "#this is the variable for loneliness in response to 'how often have you felt lonely?'\n",
    "newdf['cr058'].value_counts()"
   ]
  },
  {
   "cell_type": "code",
   "execution_count": 6,
   "metadata": {},
   "outputs": [],
   "source": [
    "newdf['cr058'] = newdf['cr058'].astype(str).str.strip()\n",
    "\n",
    "#rename values\n",
    "newdf.loc[newdf['cr058'] == '1 Not at all or less than 1 day', 'cr058'] = 'Not at all or less than 1 day'\n",
    "newdf.loc[newdf['cr058'] == '2 1-2 days', 'cr058'] = '1-2 days'\n",
    "newdf.loc[newdf['cr058'] == '3 3-4 days', 'cr058'] = '3-4 days'\n",
    "newdf.loc[newdf['cr058'] == '4 5-7 days', 'cr058'] = '5-7 days'"
   ]
  },
  {
   "cell_type": "code",
   "execution_count": 7,
   "metadata": {},
   "outputs": [
    {
     "data": {
      "text/plain": [
       "race\n",
       "1 White Only                               162365\n",
       "2 Black Only                                17012\n",
       "4 Asian Only                                11229\n",
       "6 Mixed                                     10969\n",
       "3 American Indian or Alaska Native Only      4343\n",
       "5 Hawaiian/Pacific Islander Only             1408\n",
       "Name: count, dtype: int64"
      ]
     },
     "execution_count": 7,
     "metadata": {},
     "output_type": "execute_result"
    }
   ],
   "source": [
    "newdf['race'].value_counts()"
   ]
  },
  {
   "cell_type": "code",
   "execution_count": 8,
   "metadata": {},
   "outputs": [
    {
     "data": {
      "text/plain": [
       "cr071\n",
       "180.0    4615\n",
       "200.0    4545\n",
       "150.0    4020\n",
       "160.0    4000\n",
       "165.0    3644\n",
       "         ... \n",
       "376.0       1\n",
       "61.0        1\n",
       "359.0       1\n",
       "78.0        1\n",
       "66.0        1\n",
       "Name: count, Length: 332, dtype: int64"
      ]
     },
     "execution_count": 8,
     "metadata": {},
     "output_type": "execute_result"
    }
   ],
   "source": [
    "newdf['cr071'].value_counts()"
   ]
  },
  {
   "cell_type": "markdown",
   "metadata": {},
   "source": [
    "## Creating Variables"
   ]
  },
  {
   "cell_type": "markdown",
   "metadata": {},
   "source": [
    "### Race"
   ]
  },
  {
   "cell_type": "code",
   "execution_count": 9,
   "metadata": {},
   "outputs": [
    {
     "name": "stdout",
     "output_type": "stream",
     "text": [
      "                race hisplatino hisplatino_group  asian pacific nativeamer  \\\n",
      "208815       6 Mixed       0 No              NaN  1 Yes    0 No       0 No   \n",
      "208816  1 White Only       0 No              NaN   0 No    0 No       0 No   \n",
      "208817  4 Asian Only       0 No              NaN  1 Yes    0 No       0 No   \n",
      "208818  4 Asian Only       0 No              NaN  1 Yes    0 No       0 No   \n",
      "208819  1 White Only       0 No              NaN   0 No    0 No       0 No   \n",
      "208820  2 Black Only       0 No              NaN   0 No    0 No       0 No   \n",
      "208821  1 White Only      1 Yes        1 Mexican   0 No    0 No       0 No   \n",
      "208822       6 Mixed       0 No              NaN  1 Yes    0 No      1 Yes   \n",
      "208823  2 Black Only       0 No              NaN   0 No    0 No       0 No   \n",
      "208824  1 White Only       0 No              NaN   0 No    0 No       0 No   \n",
      "\n",
      "        black  white  \n",
      "208815  1 Yes   0 No  \n",
      "208816   0 No  1 Yes  \n",
      "208817   0 No   0 No  \n",
      "208818   0 No   0 No  \n",
      "208819   0 No  1 Yes  \n",
      "208820  1 Yes   0 No  \n",
      "208821   0 No  1 Yes  \n",
      "208822   0 No  1 Yes  \n",
      "208823  1 Yes   0 No  \n",
      "208824   0 No  1 Yes  \n"
     ]
    }
   ],
   "source": [
    "columns_to_view = ['race', 'hisplatino', 'hisplatino_group', 'asian', 'pacific', 'nativeamer', 'black', 'white']\n",
    "\n",
    "#select the columns for race and view them\n",
    "selected_columns_df = newdf[columns_to_view]\n",
    "print(selected_columns_df.tail(10))"
   ]
  },
  {
   "cell_type": "code",
   "execution_count": 10,
   "metadata": {},
   "outputs": [],
   "source": [
    "#the 'race' column did not have any category for hispanic/latino. All records in 'hisplatino' with \n",
    "#value '1 Yes' had value '1 White Only' in race, so we represent this group in 'race_combined'\n",
    "\n",
    "#convert columns to string to avoid categorical issues\n",
    "newdf['race'] = newdf['race'].astype(str)\n",
    "newdf['hisplatino'] = newdf['hisplatino'].astype(str)\n",
    "\n",
    "#create a new column race_combined and initially copy the values from race\n",
    "newdf['race_combined'] = newdf['race'].astype(str)\n",
    "\n",
    "condition = (newdf['race'] == '1 White Only') & (newdf['hisplatino'] == '1 Yes')\n",
    "newdf.loc[condition, 'race_combined'] = newdf.loc[condition, 'hisplatino']\n",
    "\n",
    "#identify rows where race is missing. This is mostly for hispanic/latino individuals as the 'race' column\n",
    "#does not record that ethnic group, or they are classed as '1 White Only'\n",
    "missing_race = newdf['race'].isnull() | (newdf['race'] == '1 White Only')\n",
    "#we want to select values where they are hisp/lat\n",
    "hisplatino_yes = newdf['hisplatino'] == '1 Yes'\n",
    "#combine the above conditions\n",
    "condition = missing_race & hisplatino_yes\n",
    "\n",
    "#update race_combined based on hisplatino for rows matching the condition\n",
    "newdf.loc[condition, 'race_combined'] = newdf.loc[condition, 'hisplatino']\n"
   ]
  },
  {
   "cell_type": "code",
   "execution_count": 11,
   "metadata": {},
   "outputs": [],
   "source": [
    "newdf['race_combined'] = newdf['race_combined'].astype(str).str.strip()\n",
    "\n",
    "#rename values\n",
    "newdf.loc[newdf['race_combined'] == '1 Yes', 'race_combined'] = 'Hispanic/Latino'\n",
    "newdf.loc[newdf['race_combined'] == '1 White Only', 'race_combined'] = 'White Only'\n",
    "newdf.loc[newdf['race_combined'] == '2 Black Only', 'race_combined'] = 'Black Only'\n",
    "newdf.loc[newdf['race_combined'] == '3 American Indian or Alaska Native Only', 'race_combined'] = 'American Indian or Alaska Native Only'\n",
    "newdf.loc[newdf['race_combined'] == '4 Asian Only', 'race_combined'] = 'Asian Only'\n",
    "newdf.loc[newdf['race_combined'] == '5 Hawaiian/Pacific Islander Only', 'race_combined'] = 'Hawaiian/Pacific Islander Only'\n",
    "newdf.loc[newdf['race_combined'] == '6 Mixed', 'race_combined'] = 'Mixed'\n"
   ]
  },
  {
   "cell_type": "code",
   "execution_count": 12,
   "metadata": {},
   "outputs": [
    {
     "name": "stdout",
     "output_type": "stream",
     "text": [
      "                race hisplatino hisplatino_group  asian pacific nativeamer  \\\n",
      "208815       6 Mixed       0 No              NaN  1 Yes    0 No       0 No   \n",
      "208816  1 White Only       0 No              NaN   0 No    0 No       0 No   \n",
      "208817  4 Asian Only       0 No              NaN  1 Yes    0 No       0 No   \n",
      "208818  4 Asian Only       0 No              NaN  1 Yes    0 No       0 No   \n",
      "208819  1 White Only       0 No              NaN   0 No    0 No       0 No   \n",
      "208820  2 Black Only       0 No              NaN   0 No    0 No       0 No   \n",
      "208821  1 White Only      1 Yes        1 Mexican   0 No    0 No       0 No   \n",
      "208822       6 Mixed       0 No              NaN  1 Yes    0 No      1 Yes   \n",
      "208823  2 Black Only       0 No              NaN   0 No    0 No       0 No   \n",
      "208824  1 White Only       0 No              NaN   0 No    0 No       0 No   \n",
      "\n",
      "        black  white    race_combined  \n",
      "208815  1 Yes   0 No            Mixed  \n",
      "208816   0 No  1 Yes       White Only  \n",
      "208817   0 No   0 No       Asian Only  \n",
      "208818   0 No   0 No       Asian Only  \n",
      "208819   0 No  1 Yes       White Only  \n",
      "208820  1 Yes   0 No       Black Only  \n",
      "208821   0 No  1 Yes  Hispanic/Latino  \n",
      "208822   0 No  1 Yes            Mixed  \n",
      "208823  1 Yes   0 No       Black Only  \n",
      "208824   0 No  1 Yes       White Only  \n"
     ]
    }
   ],
   "source": [
    "columns_to_view = ['race', 'hisplatino', 'hisplatino_group', 'asian', 'pacific', 'nativeamer', 'black', 'white', 'race_combined']\n",
    "\n",
    "selected_columns_df = newdf[columns_to_view]\n",
    "print(selected_columns_df.tail(10))"
   ]
  },
  {
   "cell_type": "code",
   "execution_count": 13,
   "metadata": {},
   "outputs": [
    {
     "data": {
      "text/plain": [
       "race_combined\n",
       "White Only                               139147\n",
       "Hispanic/Latino                           23218\n",
       "Black Only                                17012\n",
       "Asian Only                                11229\n",
       "Mixed                                     10969\n",
       "American Indian or Alaska Native Only      4343\n",
       "nan                                        1499\n",
       "Hawaiian/Pacific Islander Only             1408\n",
       "Name: count, dtype: int64"
      ]
     },
     "execution_count": 13,
     "metadata": {},
     "output_type": "execute_result"
    }
   ],
   "source": [
    "selected_columns_df['race_combined'].value_counts()"
   ]
  },
  {
   "cell_type": "code",
   "execution_count": 14,
   "metadata": {},
   "outputs": [
    {
     "data": {
      "text/html": [
       "<div>\n",
       "<style scoped>\n",
       "    .dataframe tbody tr th:only-of-type {\n",
       "        vertical-align: middle;\n",
       "    }\n",
       "\n",
       "    .dataframe tbody tr th {\n",
       "        vertical-align: top;\n",
       "    }\n",
       "\n",
       "    .dataframe thead th {\n",
       "        text-align: right;\n",
       "    }\n",
       "</style>\n",
       "<table border=\"1\" class=\"dataframe\">\n",
       "  <thead>\n",
       "    <tr style=\"text-align: right;\">\n",
       "      <th></th>\n",
       "      <th>race</th>\n",
       "      <th>hisplatino</th>\n",
       "      <th>hisplatino_group</th>\n",
       "      <th>asian</th>\n",
       "      <th>pacific</th>\n",
       "      <th>nativeamer</th>\n",
       "      <th>black</th>\n",
       "      <th>white</th>\n",
       "      <th>race_combined</th>\n",
       "    </tr>\n",
       "  </thead>\n",
       "  <tbody>\n",
       "    <tr>\n",
       "      <th>0</th>\n",
       "      <td>1 White Only</td>\n",
       "      <td>0 No</td>\n",
       "      <td>NaN</td>\n",
       "      <td>0 No</td>\n",
       "      <td>0 No</td>\n",
       "      <td>0 No</td>\n",
       "      <td>0 No</td>\n",
       "      <td>1 Yes</td>\n",
       "      <td>White Only</td>\n",
       "    </tr>\n",
       "    <tr>\n",
       "      <th>1</th>\n",
       "      <td>1 White Only</td>\n",
       "      <td>0 No</td>\n",
       "      <td>NaN</td>\n",
       "      <td>0 No</td>\n",
       "      <td>0 No</td>\n",
       "      <td>0 No</td>\n",
       "      <td>0 No</td>\n",
       "      <td>1 Yes</td>\n",
       "      <td>White Only</td>\n",
       "    </tr>\n",
       "    <tr>\n",
       "      <th>2</th>\n",
       "      <td>1 White Only</td>\n",
       "      <td>0 No</td>\n",
       "      <td>NaN</td>\n",
       "      <td>0 No</td>\n",
       "      <td>0 No</td>\n",
       "      <td>0 No</td>\n",
       "      <td>0 No</td>\n",
       "      <td>1 Yes</td>\n",
       "      <td>White Only</td>\n",
       "    </tr>\n",
       "    <tr>\n",
       "      <th>3</th>\n",
       "      <td>1 White Only</td>\n",
       "      <td>0 No</td>\n",
       "      <td>NaN</td>\n",
       "      <td>0 No</td>\n",
       "      <td>0 No</td>\n",
       "      <td>0 No</td>\n",
       "      <td>0 No</td>\n",
       "      <td>1 Yes</td>\n",
       "      <td>White Only</td>\n",
       "    </tr>\n",
       "    <tr>\n",
       "      <th>4</th>\n",
       "      <td>1 White Only</td>\n",
       "      <td>0 No</td>\n",
       "      <td>NaN</td>\n",
       "      <td>0 No</td>\n",
       "      <td>0 No</td>\n",
       "      <td>0 No</td>\n",
       "      <td>0 No</td>\n",
       "      <td>1 Yes</td>\n",
       "      <td>White Only</td>\n",
       "    </tr>\n",
       "    <tr>\n",
       "      <th>...</th>\n",
       "      <td>...</td>\n",
       "      <td>...</td>\n",
       "      <td>...</td>\n",
       "      <td>...</td>\n",
       "      <td>...</td>\n",
       "      <td>...</td>\n",
       "      <td>...</td>\n",
       "      <td>...</td>\n",
       "      <td>...</td>\n",
       "    </tr>\n",
       "    <tr>\n",
       "      <th>208820</th>\n",
       "      <td>2 Black Only</td>\n",
       "      <td>0 No</td>\n",
       "      <td>NaN</td>\n",
       "      <td>0 No</td>\n",
       "      <td>0 No</td>\n",
       "      <td>0 No</td>\n",
       "      <td>1 Yes</td>\n",
       "      <td>0 No</td>\n",
       "      <td>Black Only</td>\n",
       "    </tr>\n",
       "    <tr>\n",
       "      <th>208821</th>\n",
       "      <td>1 White Only</td>\n",
       "      <td>1 Yes</td>\n",
       "      <td>1 Mexican</td>\n",
       "      <td>0 No</td>\n",
       "      <td>0 No</td>\n",
       "      <td>0 No</td>\n",
       "      <td>0 No</td>\n",
       "      <td>1 Yes</td>\n",
       "      <td>Hispanic/Latino</td>\n",
       "    </tr>\n",
       "    <tr>\n",
       "      <th>208822</th>\n",
       "      <td>6 Mixed</td>\n",
       "      <td>0 No</td>\n",
       "      <td>NaN</td>\n",
       "      <td>1 Yes</td>\n",
       "      <td>0 No</td>\n",
       "      <td>1 Yes</td>\n",
       "      <td>0 No</td>\n",
       "      <td>1 Yes</td>\n",
       "      <td>Mixed</td>\n",
       "    </tr>\n",
       "    <tr>\n",
       "      <th>208823</th>\n",
       "      <td>2 Black Only</td>\n",
       "      <td>0 No</td>\n",
       "      <td>NaN</td>\n",
       "      <td>0 No</td>\n",
       "      <td>0 No</td>\n",
       "      <td>0 No</td>\n",
       "      <td>1 Yes</td>\n",
       "      <td>0 No</td>\n",
       "      <td>Black Only</td>\n",
       "    </tr>\n",
       "    <tr>\n",
       "      <th>208824</th>\n",
       "      <td>1 White Only</td>\n",
       "      <td>0 No</td>\n",
       "      <td>NaN</td>\n",
       "      <td>0 No</td>\n",
       "      <td>0 No</td>\n",
       "      <td>0 No</td>\n",
       "      <td>0 No</td>\n",
       "      <td>1 Yes</td>\n",
       "      <td>White Only</td>\n",
       "    </tr>\n",
       "  </tbody>\n",
       "</table>\n",
       "<p>208825 rows × 9 columns</p>\n",
       "</div>"
      ],
      "text/plain": [
       "                race hisplatino hisplatino_group  asian pacific nativeamer  \\\n",
       "0       1 White Only       0 No              NaN   0 No    0 No       0 No   \n",
       "1       1 White Only       0 No              NaN   0 No    0 No       0 No   \n",
       "2       1 White Only       0 No              NaN   0 No    0 No       0 No   \n",
       "3       1 White Only       0 No              NaN   0 No    0 No       0 No   \n",
       "4       1 White Only       0 No              NaN   0 No    0 No       0 No   \n",
       "...              ...        ...              ...    ...     ...        ...   \n",
       "208820  2 Black Only       0 No              NaN   0 No    0 No       0 No   \n",
       "208821  1 White Only      1 Yes        1 Mexican   0 No    0 No       0 No   \n",
       "208822       6 Mixed       0 No              NaN  1 Yes    0 No      1 Yes   \n",
       "208823  2 Black Only       0 No              NaN   0 No    0 No       0 No   \n",
       "208824  1 White Only       0 No              NaN   0 No    0 No       0 No   \n",
       "\n",
       "        black  white    race_combined  \n",
       "0        0 No  1 Yes       White Only  \n",
       "1        0 No  1 Yes       White Only  \n",
       "2        0 No  1 Yes       White Only  \n",
       "3        0 No  1 Yes       White Only  \n",
       "4        0 No  1 Yes       White Only  \n",
       "...       ...    ...              ...  \n",
       "208820  1 Yes   0 No       Black Only  \n",
       "208821   0 No  1 Yes  Hispanic/Latino  \n",
       "208822   0 No  1 Yes            Mixed  \n",
       "208823  1 Yes   0 No       Black Only  \n",
       "208824   0 No  1 Yes       White Only  \n",
       "\n",
       "[208825 rows x 9 columns]"
      ]
     },
     "execution_count": 14,
     "metadata": {},
     "output_type": "execute_result"
    }
   ],
   "source": [
    "selected_columns_df"
   ]
  },
  {
   "cell_type": "markdown",
   "metadata": {},
   "source": [
    "Number of Household Members"
   ]
  },
  {
   "cell_type": "code",
   "execution_count": 15,
   "metadata": {},
   "outputs": [
    {
     "data": {
      "text/plain": [
       "uasmembers\n",
       "0.0    136820\n",
       "1.0     53961\n",
       "2.0     12064\n",
       "3.0      4389\n",
       "4.0      1012\n",
       "5.0       565\n",
       "6.0        14\n",
       "Name: count, dtype: int64"
      ]
     },
     "execution_count": 15,
     "metadata": {},
     "output_type": "execute_result"
    }
   ],
   "source": [
    "#Number of household UAS members besides the respondent\n",
    "newdf['uasmembers'].value_counts()"
   ]
  },
  {
   "cell_type": "code",
   "execution_count": 16,
   "metadata": {},
   "outputs": [
    {
     "data": {
      "text/plain": [
       "primary_respondent\n",
       "1 Primary respondent    172349\n",
       "0 Added member           36476\n",
       "Name: count, dtype: int64"
      ]
     },
     "execution_count": 16,
     "metadata": {},
     "output_type": "execute_result"
    }
   ],
   "source": [
    "newdf['primary_respondent'].value_counts()"
   ]
  },
  {
   "cell_type": "code",
   "execution_count": 17,
   "metadata": {},
   "outputs": [
    {
     "data": {
      "text/plain": [
       "gender\n",
       "0 Female    122739\n",
       "1 Male       86085\n",
       "Name: count, dtype: int64"
      ]
     },
     "execution_count": 17,
     "metadata": {},
     "output_type": "execute_result"
    }
   ],
   "source": [
    "newdf['gender'].value_counts()"
   ]
  },
  {
   "cell_type": "code",
   "execution_count": 18,
   "metadata": {},
   "outputs": [
    {
     "data": {
      "text/plain": [
       "dateofbirth_year\n",
       "1960.0    4931\n",
       "1961.0    4917\n",
       "1957.0    4818\n",
       "1954.0    4783\n",
       "1955.0    4708\n",
       "          ... \n",
       "2003.0      26\n",
       "1910.0      26\n",
       "1919.0      18\n",
       "2004.0       9\n",
       "1923.0       1\n",
       "Name: count, Length: 84, dtype: int64"
      ]
     },
     "execution_count": 18,
     "metadata": {},
     "output_type": "execute_result"
    }
   ],
   "source": [
    "newdf['dateofbirth_year'].value_counts()"
   ]
  },
  {
   "cell_type": "code",
   "execution_count": 19,
   "metadata": {},
   "outputs": [
    {
     "data": {
      "text/plain": [
       "age\n",
       "59.0     4775\n",
       "65.0     4712\n",
       "60.0     4596\n",
       "64.0     4521\n",
       "62.0     4402\n",
       "         ... \n",
       "100.0       6\n",
       "98.0        4\n",
       "103.0       2\n",
       "104.0       2\n",
       "112.0       1\n",
       "Name: count, Length: 89, dtype: int64"
      ]
     },
     "execution_count": 19,
     "metadata": {},
     "output_type": "execute_result"
    }
   ],
   "source": [
    "newdf['age'].value_counts()"
   ]
  },
  {
   "cell_type": "code",
   "execution_count": 20,
   "metadata": {},
   "outputs": [
    {
     "data": {
      "image/png": "[encoded data removed]",
      "text/plain": [
       "<Figure size 1000x600 with 1 Axes>"
      ]
     },
     "metadata": {},
     "output_type": "display_data"
    }
   ],
   "source": [
    "race_counts = newdf['race_combined'].value_counts()\n",
    "\n",
    "plt.figure(figsize=(10, 6))\n",
    "sns.countplot(data=newdf, x='race_combined', order=race_counts.index, palette='viridis')\n",
    "plt.title('Distribution of Race Combined')\n",
    "plt.xlabel('Race Combined')\n",
    "plt.ylabel('Frequency')\n",
    "plt.xticks(rotation=45, ha='right')\n",
    "plt.show()"
   ]
  },
  {
   "cell_type": "code",
   "execution_count": 21,
   "metadata": {},
   "outputs": [
    {
     "data": {
      "image/png": "[encoded data removed]",
      "text/plain": [
       "<Figure size 1000x600 with 1 Axes>"
      ]
     },
     "metadata": {},
     "output_type": "display_data"
    }
   ],
   "source": [
    "lone_counts = newdf['cr058'].value_counts()\n",
    "\n",
    "plt.figure(figsize=(10, 6))\n",
    "sns.countplot(data=newdf, x='cr058', order=lone_counts.index, palette='viridis')\n",
    "plt.title('Reports of Loneliness')\n",
    "plt.xlabel('Days')\n",
    "plt.ylabel('Frequency')\n",
    "plt.xticks(rotation=45, ha='right')\n",
    "plt.show()"
   ]
  },
  {
   "cell_type": "code",
   "execution_count": 26,
   "metadata": {},
   "outputs": [
    {
     "data": {
      "text/plain": [
       "50535"
      ]
     },
     "execution_count": 26,
     "metadata": {},
     "output_type": "execute_result"
    }
   ],
   "source": [
    "newdf['cr058'].isnull().sum()"
   ]
  },
  {
   "cell_type": "code",
   "execution_count": 23,
   "metadata": {},
   "outputs": [],
   "source": [
    "#replace empty strings with NaN in cr058\n",
    "newdf['cr058'] = newdf['cr058'].replace('nan', pd.NA)"
   ]
  },
  {
   "cell_type": "code",
   "execution_count": 27,
   "metadata": {},
   "outputs": [
    {
     "data": {
      "text/plain": [
       "50535"
      ]
     },
     "execution_count": 27,
     "metadata": {},
     "output_type": "execute_result"
    }
   ],
   "source": [
    "newdf['cr058'].isnull().sum()"
   ]
  },
  {
   "cell_type": "code",
   "execution_count": 28,
   "metadata": {},
   "outputs": [
    {
     "data": {
      "text/plain": [
       "(208825, 4223)"
      ]
     },
     "execution_count": 28,
     "metadata": {},
     "output_type": "execute_result"
    }
   ],
   "source": [
    "newdf.shape"
   ]
  },
  {
   "cell_type": "markdown",
   "metadata": {},
   "source": [
    "dropping records where cr058 is null"
   ]
  },
  {
   "cell_type": "code",
   "execution_count": 29,
   "metadata": {},
   "outputs": [],
   "source": [
    "newdf = newdf.dropna(subset=['cr058'])"
   ]
  },
  {
   "cell_type": "code",
   "execution_count": 30,
   "metadata": {},
   "outputs": [
    {
     "data": {
      "text/plain": [
       "(158290, 4223)"
      ]
     },
     "execution_count": 30,
     "metadata": {},
     "output_type": "execute_result"
    }
   ],
   "source": [
    "newdf.shape"
   ]
  },
  {
   "cell_type": "code",
   "execution_count": 31,
   "metadata": {},
   "outputs": [
    {
     "data": {
      "text/plain": [
       "hhincome\n",
       "15 100,000 to 149,999    22746\n",
       "14 75,000 to 99,999      22343\n",
       "16 150,000 or more       18970\n",
       "13 60,000 to 74,999      17483\n",
       "12 50,000 to 59,999      12732\n",
       "11 40,000 to 49,999      11855\n",
       "10 35,000 to 39,999       7621\n",
       "9 30,000 to 34,999        7384\n",
       "8 25,000 to 29,999        7125\n",
       "7 20,000 to 24,999        6849\n",
       "6 15,000 to 19,999        5531\n",
       "1 Less than $5,000        5444\n",
       "4 10,000 to 12,499        4067\n",
       "5 12,500 to 14,999        3222\n",
       "3 7,500 to 9,999          2434\n",
       "2 5,000 to 7,499          2158\n",
       "Name: count, dtype: int64"
      ]
     },
     "execution_count": 31,
     "metadata": {},
     "output_type": "execute_result"
    }
   ],
   "source": [
    "newdf['hhincome'].value_counts()"
   ]
  },
  {
   "cell_type": "code",
   "execution_count": 32,
   "metadata": {},
   "outputs": [],
   "source": [
    "income_mapping = {\n",
    "    '1 Less than $5,000': 'Less than $20,000',\n",
    "    '2 5,000 to 7,499': 'Less than $20,000',\n",
    "    '3 7,500 to 9,999': 'Less than $20,000',\n",
    "    '4 10,000 to 12,499': 'Less than $20,000',\n",
    "    '5 12,500 to 14,999': 'Less than $20,000',\n",
    "    '6 15,000 to 19,999': 'Less than $20,000',\n",
    "    '7 20,000 to 24,999': '$20,000 to $49,999',\n",
    "    '8 25,000 to 29,999': '$20,000 to $49,999',\n",
    "    '9 30,000 to 34,999': '$20,000 to $49,999',\n",
    "    '10 35,000 to 39,999': '$20,000 to $49,999',\n",
    "    '11 40,000 to 49,999': '$20,000 to $49,999',\n",
    "    '12 50,000 to 59,999': '$50,000 to $99,999',\n",
    "    '13 60,000 to 74,999': '$50,000 to $99,999',\n",
    "    '14 75,000 to 99,999': '$50,000 to $99,999',\n",
    "    '15 100,000 to 149,999': '$100,000 to $149,999',\n",
    "    '16 150,000 or more': '$150,000 or more'\n",
    "}\n"
   ]
  },
  {
   "cell_type": "code",
   "execution_count": 33,
   "metadata": {},
   "outputs": [
    {
     "data": {
      "text/plain": [
       "hhincome\n",
       "$50,000 to $99,999      52558\n",
       "$20,000 to $49,999      40834\n",
       "Less than $20,000       22856\n",
       "$100,000 to $149,999    22746\n",
       "$150,000 or more        18970\n",
       "Name: count, dtype: int64"
      ]
     },
     "execution_count": 33,
     "metadata": {},
     "output_type": "execute_result"
    }
   ],
   "source": [
    "newdf['hhincome'] = newdf['hhincome'].map(income_mapping)\n",
    "newdf['hhincome'].value_counts()"
   ]
  },
  {
   "cell_type": "code",
   "execution_count": 34,
   "metadata": {},
   "outputs": [
    {
     "data": {
      "text/plain": [
       "ei002\n",
       "2 No        147287\n",
       "1 Yes         8357\n",
       "3 Unsure      2410\n",
       "Name: count, dtype: int64"
      ]
     },
     "execution_count": 34,
     "metadata": {},
     "output_type": "execute_result"
    }
   ],
   "source": [
    "newdf['ei002'].value_counts() #question: worried you would run out of food"
   ]
  },
  {
   "cell_type": "code",
   "execution_count": 35,
   "metadata": {},
   "outputs": [],
   "source": [
    "#remove the numbers and retain the state names\n",
    "newdf['statereside'] = newdf['statereside'].str.replace(r'^\\d+\\s', '', regex=True)"
   ]
  },
  {
   "cell_type": "code",
   "execution_count": 37,
   "metadata": {},
   "outputs": [
    {
     "data": {
      "text/plain": [
       "statereside\n",
       "California              49460\n",
       "Ohio                     7177\n",
       "Pennsylvania             6492\n",
       "Florida                  6092\n",
       "Texas                    5974\n",
       "Michigan                 5009\n",
       "New York                 4739\n",
       "Illinois                 4233\n",
       "Georgia                  4072\n",
       "Wisconsin                4006\n",
       "North Carolina           3984\n",
       "Virginia                 3848\n",
       "Indiana                  3794\n",
       "Missouri                 2995\n",
       "Tennessee                2974\n",
       "Washington               2797\n",
       "Kansas                   2692\n",
       "Iowa                     2395\n",
       "Kentucky                 2323\n",
       "Arkansas                 2260\n",
       "Arizona                  2080\n",
       "Minnesota                2070\n",
       "Alabama                  2012\n",
       "West Virginia            1992\n",
       "New Jersey               1969\n",
       "South Carolina           1700\n",
       "Colorado                 1513\n",
       "Massachusetts            1445\n",
       "Oklahoma                 1437\n",
       "Oregon                   1421\n",
       "Mississippi              1366\n",
       "Montana                  1258\n",
       "Utah                     1106\n",
       "Connecticut              1104\n",
       "South Dakota              960\n",
       "Maine                     959\n",
       "Nebraska                  945\n",
       "Maryland                  912\n",
       "New Mexico                857\n",
       "Nevada                    756\n",
       "Louisiana                 641\n",
       "Idaho                     607\n",
       "North Dakota              525\n",
       "New Hampshire             289\n",
       "Vermont                   205\n",
       "Hawaii                    179\n",
       "Alaska                    143\n",
       "Delaware                  143\n",
       "District of Columbia      132\n",
       "Wyoming                   112\n",
       "Rhode Island               67\n",
       "Name: count, dtype: int64"
      ]
     },
     "execution_count": 37,
     "metadata": {},
     "output_type": "execute_result"
    }
   ],
   "source": [
    "newdf['statereside'].value_counts()"
   ]
  },
  {
   "cell_type": "code",
   "execution_count": 38,
   "metadata": {},
   "outputs": [],
   "source": [
    "export = newdf[['uasid','cr058', 'wave', 'statereside', 'hhincome', 'ei002']]"
   ]
  },
  {
   "cell_type": "code",
   "execution_count": 39,
   "metadata": {},
   "outputs": [],
   "source": [
    "export.to_csv('lonelydata.csv', index=False)\n"
   ]
  },
  {
   "cell_type": "code",
   "execution_count": 40,
   "metadata": {},
   "outputs": [
    {
     "data": {
      "text/plain": [
       "disabled\n",
       "0 No     145050\n",
       "1 Yes     13158\n",
       "Name: count, dtype: int64"
      ]
     },
     "execution_count": 40,
     "metadata": {},
     "output_type": "execute_result"
    }
   ],
   "source": [
    "newdf['disabled'].value_counts()"
   ]
  },
  {
   "cell_type": "code",
   "execution_count": 41,
   "metadata": {},
   "outputs": [
    {
     "name": "stdout",
     "output_type": "stream",
     "text": [
      "24561    2020-04-29\n",
      "24930    2020-04-29\n",
      "21451    2020-04-29\n",
      "20883    2020-04-29\n",
      "20603    2020-04-29\n",
      "            ...    \n",
      "175520   2021-07-19\n",
      "176778   2021-07-19\n",
      "178721   2021-07-19\n",
      "175735   2021-07-19\n",
      "176927   2021-07-19\n",
      "Name: start_date, Length: 158290, dtype: datetime64[ns]\n"
     ]
    }
   ],
   "source": [
    "#convert start_date to datetime \n",
    "newdf['start_date'] = pd.to_datetime(newdf['start_date'])\n",
    "\n",
    "#sort values by start_date to get the earliest date first\n",
    "newdf_sorted = newdf.sort_values(by='start_date')\n",
    "\n",
    "print(newdf_sorted['start_date'])"
   ]
  },
  {
   "cell_type": "code",
   "execution_count": 42,
   "metadata": {},
   "outputs": [
    {
     "name": "stdout",
     "output_type": "stream",
     "text": [
      "175596   2021-07-19\n",
      "176927   2021-07-19\n",
      "175443   2021-07-19\n",
      "176706   2021-07-19\n",
      "177374   2021-07-19\n",
      "            ...    \n",
      "177618          NaT\n",
      "177864          NaT\n",
      "178491          NaT\n",
      "179003          NaT\n",
      "179007          NaT\n",
      "Name: end_date, Length: 158290, dtype: datetime64[ns]\n"
     ]
    }
   ],
   "source": [
    "#convert start_date to datetime \n",
    "newdf['end_date'] = pd.to_datetime(newdf['end_date'])\n",
    "\n",
    "#sort values by start_date to get the earliest date first\n",
    "newdf_sorted = newdf.sort_values(by='end_date',ascending=False)\n",
    "\n",
    "print(newdf_sorted['end_date'])"
   ]
  },
  {
   "cell_type": "code",
   "execution_count": 43,
   "metadata": {},
   "outputs": [
    {
     "data": {
      "text/plain": [
       "start_year\n",
       "2020.0    107637\n",
       "2021.0     50653\n",
       "Name: count, dtype: int64"
      ]
     },
     "execution_count": 43,
     "metadata": {},
     "output_type": "execute_result"
    }
   ],
   "source": [
    "newdf['start_year'].value_counts()"
   ]
  },
  {
   "cell_type": "markdown",
   "metadata": {},
   "source": [
    "Longitudinal Analysis"
   ]
  },
  {
   "cell_type": "code",
   "execution_count": 44,
   "metadata": {},
   "outputs": [
    {
     "data": {
      "text/plain": [
       "8303"
      ]
     },
     "execution_count": 44,
     "metadata": {},
     "output_type": "execute_result"
    }
   ],
   "source": [
    "#number of unique participants\n",
    "newdf['uasid'].nunique()\n",
    "#the 200,000+ observations are recorded over time for these ~8000 participants\n",
    "#so it is possible to track them through time"
   ]
  },
  {
   "cell_type": "code",
   "execution_count": 45,
   "metadata": {},
   "outputs": [
    {
     "ename": "NameError",
     "evalue": "name 'grouped' is not defined",
     "output_type": "error",
     "traceback": [
      "\u001b[1;31m---------------------------------------------------------------------------\u001b[0m",
      "\u001b[1;31mNameError\u001b[0m                                 Traceback (most recent call last)",
      "Cell \u001b[1;32mIn[45], line 6\u001b[0m\n\u001b[0;32m      3\u001b[0m max_plots \u001b[38;5;241m=\u001b[39m \u001b[38;5;241m6\u001b[39m  \u001b[38;5;66;03m# Number of respondents to plot\u001b[39;00m\n\u001b[0;32m      5\u001b[0m \u001b[38;5;66;03m# Plot cr058 over time for the first 6 respondents\u001b[39;00m\n\u001b[1;32m----> 6\u001b[0m \u001b[38;5;28;01mfor\u001b[39;00m name, group \u001b[38;5;129;01min\u001b[39;00m grouped:\n\u001b[0;32m      7\u001b[0m     plt\u001b[38;5;241m.\u001b[39mfigure(figsize\u001b[38;5;241m=\u001b[39m(\u001b[38;5;241m10\u001b[39m, \u001b[38;5;241m6\u001b[39m))\n\u001b[0;32m      8\u001b[0m     plt\u001b[38;5;241m.\u001b[39mplot(group[\u001b[38;5;124m'\u001b[39m\u001b[38;5;124mstart_date\u001b[39m\u001b[38;5;124m'\u001b[39m], group[\u001b[38;5;124m'\u001b[39m\u001b[38;5;124mcr058\u001b[39m\u001b[38;5;124m'\u001b[39m], marker\u001b[38;5;241m=\u001b[39m\u001b[38;5;124m'\u001b[39m\u001b[38;5;124mo\u001b[39m\u001b[38;5;124m'\u001b[39m, linestyle\u001b[38;5;241m=\u001b[39m\u001b[38;5;124m'\u001b[39m\u001b[38;5;124m-\u001b[39m\u001b[38;5;124m'\u001b[39m, label\u001b[38;5;241m=\u001b[39m\u001b[38;5;124mf\u001b[39m\u001b[38;5;124m'\u001b[39m\u001b[38;5;124mRespondent \u001b[39m\u001b[38;5;132;01m{\u001b[39;00mname\u001b[38;5;132;01m}\u001b[39;00m\u001b[38;5;124m'\u001b[39m)\n",
      "\u001b[1;31mNameError\u001b[0m: name 'grouped' is not defined"
     ]
    }
   ],
   "source": [
    "\n",
    "# Counter to keep track of the number of respondents plotted\n",
    "counter = 0\n",
    "max_plots = 6  # Number of respondents to plot\n",
    "\n",
    "# Plot cr058 over time for the first 6 respondents\n",
    "for name, group in grouped:\n",
    "    plt.figure(figsize=(10, 6))\n",
    "    plt.plot(group['start_date'], group['cr058'], marker='o', linestyle='-', label=f'Respondent {name}')\n",
    "    plt.title(f'cr058 Over Time for Respondent {name}')\n",
    "    plt.xlabel('Start Date')\n",
    "    plt.ylabel('cr058')\n",
    "    plt.legend()\n",
    "    plt.grid(True)\n",
    "    plt.show()\n",
    "    \n",
    "    # Increment the counter and check if we have plotted 6 respondents\n",
    "    counter += 1\n",
    "    if counter >= max_plots:\n",
    "        break\n"
   ]
  },
  {
   "cell_type": "code",
   "execution_count": 46,
   "metadata": {},
   "outputs": [
    {
     "data": {
      "text/plain": [
       "cr054s10\n",
       "0 No     129528\n",
       "1 Yes     28678\n",
       "Name: count, dtype: int64"
      ]
     },
     "execution_count": 46,
     "metadata": {},
     "output_type": "execute_result"
    }
   ],
   "source": [
    "newdf['cr054s10'].value_counts()\n",
    "#Obesity"
   ]
  },
  {
   "cell_type": "code",
   "execution_count": 47,
   "metadata": {},
   "outputs": [
    {
     "data": {
      "text/plain": [
       "hhincome\n",
       "$50,000 to $99,999      52558\n",
       "$20,000 to $49,999      40834\n",
       "Less than $20,000       22856\n",
       "$100,000 to $149,999    22746\n",
       "$150,000 or more        18970\n",
       "Name: count, dtype: int64"
      ]
     },
     "execution_count": 47,
     "metadata": {},
     "output_type": "execute_result"
    }
   ],
   "source": [
    "newdf['hhincome'].value_counts()"
   ]
  },
  {
   "cell_type": "code",
   "execution_count": 48,
   "metadata": {},
   "outputs": [
    {
     "name": "stdout",
     "output_type": "stream",
     "text": [
      "cr058                 1-2 days  3-4 days  5-7 days  \\\n",
      "hhincome                                             \n",
      "$100,000 to $149,999  0.156907  0.054691  0.034116   \n",
      "$150,000 or more      0.155245  0.043173  0.034106   \n",
      "$20,000 to $49,999    0.182568  0.089509  0.076848   \n",
      "$50,000 to $99,999    0.170269  0.068534  0.051029   \n",
      "Less than $20,000     0.185028  0.118700  0.119181   \n",
      "nan                   0.273006  0.015337  0.006135   \n",
      "All                   0.172064  0.076050  0.062979   \n",
      "\n",
      "cr058                 Not at all or less than 1 day  \n",
      "hhincome                                             \n",
      "$100,000 to $149,999                       0.754286  \n",
      "$150,000 or more                           0.767475  \n",
      "$20,000 to $49,999                         0.651075  \n",
      "$50,000 to $99,999                         0.710168  \n",
      "Less than $20,000                          0.577091  \n",
      "nan                                        0.705521  \n",
      "All                                        0.688906  \n"
     ]
    }
   ],
   "source": [
    "# Ensure both columns exist and are string/categorical\n",
    "newdf['hhincome'] = newdf['hhincome'].astype(str)\n",
    "newdf['cr058'] = newdf['cr058'].astype(str)\n",
    "\n",
    "# Crosstabulation of hhincome and cr058\n",
    "ct = pd.crosstab(newdf['hhincome'], newdf['cr058'], margins=True, normalize='index')\n",
    "print(ct)"
   ]
  },
  {
   "cell_type": "code",
   "execution_count": 112,
   "metadata": {},
   "outputs": [
    {
     "data": {
      "text/plain": [
       "cr058\n",
       "Not at all or less than 1 day    109047\n",
       "1-2 days                          27236\n",
       "3-4 days                          12038\n",
       "5-7 days                           9969\n",
       "Name: count, dtype: int64"
      ]
     },
     "execution_count": 112,
     "metadata": {},
     "output_type": "execute_result"
    }
   ],
   "source": [
    "newdf['cr058'].value_counts()"
   ]
  }
 ],
 "metadata": {
  "kernelspec": {
   "display_name": "base",
   "language": "python",
   "name": "python3"
  },
  "language_info": {
   "codemirror_mode": {
    "name": "ipython",
    "version": 3
   },
   "file_extension": ".py",
   "mimetype": "text/x-python",
   "name": "python",
   "nbconvert_exporter": "python",
   "pygments_lexer": "ipython3",
   "version": "3.11.5"
  }
 },
 "nbformat": 4,
 "nbformat_minor": 2
}
